{
 "cells": [
  {
   "cell_type": "markdown",
   "metadata": {},
   "source": [
    "# Grouping\n",
    "## Regions ↔ Boundaries"
   ]
  },
  {
   "cell_type": "code",
   "execution_count": null,
   "metadata": {},
   "outputs": [],
   "source": []
  },
  {
   "cell_type": "markdown",
   "metadata": {},
   "source": [
    "## Grouping by clustering\n",
    "* Idea: embed pixels into high-dimensional space (e.g. 3-dimensions)\n",
    "* Each pixel is a point\n",
    "* Group together points"
   ]
  },
  {
   "cell_type": "code",
   "execution_count": null,
   "metadata": {},
   "outputs": [],
   "source": []
  },
  {
   "cell_type": "markdown",
   "metadata": {},
   "source": [
    "## k-means\n",
    "* Assumption: each group is a Gaussian with different means and same standard deviation\n",
    "    * $P(x_i|u_j) \\propto e^{-\\frac{1}{2\\sigma^2} \\| x_i - \\mu_j \\|^2}$\n",
    "* Suppose we know all \\mu_j. Which group should a point $x-i$ belong to?\n",
    "    * The $j$ with the highest $P(x_i|u_j)$\n",
    "    * = The $j$ with the smallest $\\|x_i-\\mu_j\\|^2$\n",
    "\n",
    "<br>\n",
    "\n",
    "* **If means are known**\n",
    "    * then trivial assignment to groups. \n",
    "    * How?\n",
    "        * Assign data point to *nearest* mean\n",
    "\n",
    "\n",
    "* **If means are not known**\n",
    "    * What if we know a set of points from each cluster?\n",
    "        * $x_{k_1},x_{k_2},...,x_{k_n}$ belong to cluster $k$\n",
    "        * $\\mu_k = \\frac{(x_{k_1},x_{k_2},...,x_{k_n})}{n}$\n",
    "    * Assignment of points to clusters in known, then finding means is easy\n",
    "    * How?\n",
    "        * Compute the mean of every cluster\n",
    "\n",
    "<br>\n",
    "\n",
    "* Given means, can assign points to clusters\n",
    "* Given assignments, can computer means\n",
    "* Idea: iterate\n",
    "\n",
    "**Steps**\n",
    "1. Randomly pick $k$ centers\n",
    "2. Assign each point to nearest center\n",
    "3. Re-estimate centers\n",
    "4. Repeat"
   ]
  },
  {
   "cell_type": "code",
   "execution_count": null,
   "metadata": {},
   "outputs": [],
   "source": []
  },
  {
   "cell_type": "markdown",
   "metadata": {},
   "source": [
    "Input: set of datapoints, $k$\n",
    "1. Randomly pick $k$ points as means\n",
    "    * $\\mu_i, i = 1,...,k$\n",
    "2. For $i$ in [0,maxiters]:\n",
    "    1. Assign each point to its nearest center\n",
    "        * $y_i = \\text{argmin}_j \\| x_i - \\mu_j \\|^2$\n",
    "    2. Re-estimate each center as mean os points assigned to it\n",
    "        * $\\mu_j = \\frac{\\sum_{i:y_i = j} x_i}{\\sum_{i:y_i = j}1}$\n"
   ]
  },
  {
   "cell_type": "code",
   "execution_count": null,
   "metadata": {},
   "outputs": [],
   "source": []
  },
  {
   "cell_type": "markdown",
   "metadata": {},
   "source": [
    "* An objective function that must be minimized:\n",
    "    * $\\min_{\\mu, y} \\sum_i \\| x_i - \\mu_{y_i} \\|^2$\n",
    "* Every iteration of k-means takes a downward step:\n",
    "    * Fixes $\\mu$ and sets $y$ to minimize objective\n",
    "    * Fixes $y$ and sets $\\mu$ to minimize objective"
   ]
  },
  {
   "cell_type": "code",
   "execution_count": null,
   "metadata": {},
   "outputs": [],
   "source": []
  },
  {
   "cell_type": "markdown",
   "metadata": {},
   "source": [
    "## k-means on image pixels\n",
    "* What is wrong?\n",
    "    * Pixel position\n",
    "        * Nearby pixels are likely to belong to the same object\n",
    "        * Far-away pixels are likely to belong to different objects\n",
    "    * How do we incorporate pixel position?\n",
    "        * Instead of representing each pixel as (R,G,B), represent each pixel as (R,G,B,x,y)"
   ]
  },
  {
   "cell_type": "code",
   "execution_count": null,
   "metadata": {},
   "outputs": [],
   "source": []
  },
  {
   "cell_type": "markdown",
   "metadata": {},
   "source": [
    "### k-means on image pixels + position\n"
   ]
  },
  {
   "cell_type": "code",
   "execution_count": null,
   "metadata": {},
   "outputs": [],
   "source": []
  },
  {
   "cell_type": "markdown",
   "metadata": {},
   "source": [
    "### The issues with k-means\n",
    "* Captures pixel similarity but\n",
    "    * doesn't caputre continuity of contours\n",
    "    * captures near / far relationships weakly\n",
    "    * if not using position, can merge far away objects together\n",
    "    * if using position, can split large regions\n",
    "* Requires knowledge of k\n",
    "* Can it deal with texture?"
   ]
  },
  {
   "cell_type": "code",
   "execution_count": null,
   "metadata": {},
   "outputs": [],
   "source": []
  },
  {
   "cell_type": "markdown",
   "metadata": {},
   "source": [
    "### Oversegmentation and superpixels\n",
    "* What is a safe choice **if we don't know k**?\n",
    "* Idea: Use large k\n",
    "    * Can potentially break big objects, but will hopefully not merge unrelated objects\n",
    "    * Later processing can decide which groups to merge\n",
    "    * Called *superpixels*"
   ]
  },
  {
   "cell_type": "code",
   "execution_count": null,
   "metadata": {},
   "outputs": [],
   "source": []
  },
  {
   "cell_type": "markdown",
   "metadata": {},
   "source": [
    "# Segmentation\n",
    "## From boundaries to segments\n",
    "* k-means output typically doesn't align to boundaries\n",
    "* Can we segment in a way that better aligns to boundaries?"
   ]
  },
  {
   "cell_type": "code",
   "execution_count": null,
   "metadata": {},
   "outputs": [],
   "source": []
  },
  {
   "cell_type": "markdown",
   "metadata": {},
   "source": [
    "## \"Flood fill\"\n",
    "* Write image as a graph\n",
    "    * Pixels are nodes\n",
    "    * Add edge between nodes if it *doesn't cross detected boundary*\n",
    "* Find *conntected components*\n",
    "    * Start with a node\n",
    "    * Perform DFS / BFS\n",
    "    * Label all visited nodes as part of this component\n",
    "    * Repeat with an unlabeled node"
   ]
  },
  {
   "cell_type": "code",
   "execution_count": null,
   "metadata": {},
   "outputs": [],
   "source": []
  },
  {
   "cell_type": "markdown",
   "metadata": {},
   "source": [
    "## Graph-based segmentation\n",
    "* Connected components for going from boundaries to regions\n",
    "* But problem if boundaries not closed\n",
    "* Are there other graph-based algorithms that perform better?"
   ]
  },
  {
   "cell_type": "code",
   "execution_count": null,
   "metadata": {},
   "outputs": [],
   "source": []
  },
  {
   "cell_type": "markdown",
   "metadata": {},
   "source": [
    "* Construct a graph between pixels\n",
    "* Edges connecting nodes have *weights*: how likely pixels are to be part of same object\n",
    "    * e.g., weight = C - derivative magnitude\n",
    "    * e.g., exp(- difference in color values)\n",
    "\n",
    "<br>\n",
    "\n",
    "* How to use this to group pixels?"
   ]
  },
  {
   "cell_type": "code",
   "execution_count": null,
   "metadata": {},
   "outputs": [],
   "source": []
  },
  {
   "cell_type": "markdown",
   "metadata": {},
   "source": [
    "## Graph *cuts*\n",
    "* Each clustering *cuts* some edges and preserves others\n",
    "* Example objective: choose clustering that cuts only weak edges\n",
    "* *Min-cut*: choose cut that *minimizes total weight of edges cut*\n",
    "* Can be done in polynomial time for *binary segmentation*: [Ford-Fulkerson algorithm](https://en.wikipedia.org/wiki/Ford–Fulkerson_algorithm)"
   ]
  },
  {
   "cell_type": "code",
   "execution_count": null,
   "metadata": {},
   "outputs": [],
   "source": []
  },
  {
   "cell_type": "markdown",
   "metadata": {},
   "source": [
    "## Graph segmentation algorithms more generally\n",
    "* Pixels $x_i, \\text{where}~ i = 1,...,N$\n",
    "* Given number of segments $k$\n",
    "* Want to figure out which segment to assign each pixel to: $y_i$\n",
    "* Weight of edge between pixels $i$ and $j$: $w_{ij}$\n",
    "    * (can be 0 for pixels not connected)\n",
    "\n",
    "$\\min_y \\sum_{ij} w_{ij} \\mathrm{I\\!I} [y_i \\neq y_j]$"
   ]
  },
  {
   "cell_type": "code",
   "execution_count": null,
   "metadata": {},
   "outputs": [],
   "source": []
  },
  {
   "cell_type": "markdown",
   "metadata": {},
   "source": [
    "$\\min_y \\sum_{ij} w_{ij} \\mathrm{I\\!I} [y_i \\neq y_j] + \\sum_i f_i(y_i)$"
   ]
  },
  {
   "cell_type": "code",
   "execution_count": null,
   "metadata": {},
   "outputs": [],
   "source": []
  },
  {
   "cell_type": "markdown",
   "metadata": {},
   "source": [
    "## Optimizing this objective\n",
    "$\\min_y \\sum_{ij} w_{ij} \\mathrm{I\\!I} [y_i \\neq y_j] + \\sum_i f_i(y_i)$\n",
    "* Reduces to min-cut for *binary segmentation*\n",
    "* For $k > 2$, in general NP hard\n",
    "* Approximations exist"
   ]
  },
  {
   "cell_type": "code",
   "execution_count": null,
   "metadata": {},
   "outputs": [],
   "source": []
  },
  {
   "cell_type": "markdown",
   "metadata": {},
   "source": [
    "## Even more generally\n",
    "* Graph connectivity varies\n",
    "* Edge weight definition varies\n",
    "* Per-node cost definition varies\n",
    "* Objective varies\n",
    "* *Family of segmentation algorithms*"
   ]
  },
  {
   "cell_type": "code",
   "execution_count": null,
   "metadata": {},
   "outputs": [],
   "source": []
  },
  {
   "cell_type": "markdown",
   "metadata": {},
   "source": [
    "## An example output\n",
    "* \"Efficient interference n fully connected CRF's with Gaussian edge potentials\""
   ]
  },
  {
   "cell_type": "code",
   "execution_count": null,
   "metadata": {},
   "outputs": [],
   "source": []
  }
 ],
 "metadata": {
  "kernelspec": {
   "display_name": "Python 3",
   "language": "python",
   "name": "python3"
  },
  "language_info": {
   "codemirror_mode": {
    "name": "ipython",
    "version": 3
   },
   "file_extension": ".py",
   "mimetype": "text/x-python",
   "name": "python",
   "nbconvert_exporter": "python",
   "pygments_lexer": "ipython3",
   "version": "3.8.3"
  }
 },
 "nbformat": 4,
 "nbformat_minor": 4
}
