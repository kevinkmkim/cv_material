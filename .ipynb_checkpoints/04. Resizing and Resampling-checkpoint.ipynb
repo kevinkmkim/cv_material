{
 "cells": [
  {
   "cell_type": "code",
   "execution_count": null,
   "metadata": {},
   "outputs": [],
   "source": [
    "import cv2\n",
    "import numpy as np\n",
    "from matplotlib import pyplot as plt"
   ]
  },
  {
   "cell_type": "markdown",
   "metadata": {},
   "source": [
    "# Resizing and Resampling"
   ]
  },
  {
   "cell_type": "markdown",
   "metadata": {},
   "source": [
    "## Aliasing\n",
    "* Images are made up of high frequency and low frequency components\n",
    "* High frequency components: pixel-to-pixel details\n",
    "* Low frequency components: high-level structure\n",
    "* Naïve subsampling causes high frequency components to alias as new patterns"
   ]
  },
  {
   "cell_type": "code",
   "execution_count": null,
   "metadata": {},
   "outputs": [],
   "source": []
  },
  {
   "cell_type": "markdown",
   "metadata": {},
   "source": [
    "### Why does aliasing happen?\n",
    "* By subsampling, we miss information *between samples*\n",
    "* In underlying function changes a lot between samples, we **miss all of that variation**\n",
    "* Function reconstructed from samples will have a lot less variation"
   ]
  },
  {
   "cell_type": "code",
   "execution_count": null,
   "metadata": {},
   "outputs": [],
   "source": []
  },
  {
   "cell_type": "markdown",
   "metadata": {},
   "source": [
    "## Frequency\n",
    "* How quickly does $f(x,y)$ change with changing $x$ and $y$\n",
    "    * If $f(x,y)$ changes rapidly with $x$ and $y$, $f$ is said to have *high frequencies*"
   ]
  },
  {
   "cell_type": "code",
   "execution_count": null,
   "metadata": {},
   "outputs": [],
   "source": []
  },
  {
   "cell_type": "markdown",
   "metadata": {},
   "source": [
    "### The frequency of sines and cosines\n",
    "* The wave $\\sin wx$ has:\n",
    "    * Time period of $\\frac{2\\pi}{w}$\n",
    "    * Frequency of $\\frac{w}{2\\pi}$\n",
    "* *Higher the $w$, higher the frequency*\n",
    "* *If constructing $f(x)$ requires sine waves of high frequency $\\rightarrow$ places where it changes rapidly*"
   ]
  },
  {
   "cell_type": "code",
   "execution_count": null,
   "metadata": {},
   "outputs": [],
   "source": []
  },
  {
   "cell_type": "markdown",
   "metadata": {},
   "source": [
    "## Frequency and Aliasing\n",
    "* If a function has high frequency components\n",
    "* Subsampling might miss peaks and troughs of high frequency components\n",
    "* These components will then appear \"aliased\" as low frequency components"
   ]
  },
  {
   "cell_type": "code",
   "execution_count": null,
   "metadata": {},
   "outputs": [],
   "source": []
  },
  {
   "cell_type": "markdown",
   "metadata": {},
   "source": [
    "## How to avoid aliasing\n",
    "* To recover a sinusoid, need to sample at least twice per cycle\n",
    "* For a general image, need to sample at least twice the rate of the highest frequency component\n",
    "* **Nyquist sampling theorem**\n",
    "* To subsample, *remove high frequency components*\n",
    "* To remove high frequency components, blur the image with a *Gaussian*"
   ]
  },
  {
   "cell_type": "markdown",
   "metadata": {},
   "source": [
    "## The Nyquist sampling theorem\n",
    "* To avoid aliasing, frequency of sampling should be greater than *twice the greatest frequency in the signal*\n",
    "* Rough intuition: sample sine curve at least twice per cycle to get both peak and trough"
   ]
  },
  {
   "cell_type": "code",
   "execution_count": null,
   "metadata": {},
   "outputs": [],
   "source": []
  },
  {
   "cell_type": "markdown",
   "metadata": {},
   "source": [
    "## How should we subsample?\n",
    "* If image has high frequency components, they will appear aliased as other low frequency components\n",
    "* Simple solution: *remove high frequency components*\n",
    "* How?"
   ]
  },
  {
   "cell_type": "code",
   "execution_count": null,
   "metadata": {},
   "outputs": [],
   "source": []
  },
  {
   "cell_type": "markdown",
   "metadata": {},
   "source": [
    "## The effect of blurring on frequency\n",
    "* What does blurring do to high frequency components?\n",
    "* Blurring *makes pixel more like neighbors*\n",
    "* So intensity inblurred image varies less quickly with $x$ and $y$\n",
    "* So blurred images have less high frequency components\n",
    "* Mathemateical fact: *blurring with a Gaussian is the best way to remove high frequencies*\n",
    "* (Thus blurring is also called 'low-pass filtering')"
   ]
  },
  {
   "cell_type": "code",
   "execution_count": null,
   "metadata": {},
   "outputs": [],
   "source": []
  },
  {
   "cell_type": "markdown",
   "metadata": {},
   "source": [
    "## Subsampling before and after blurring"
   ]
  },
  {
   "cell_type": "code",
   "execution_count": null,
   "metadata": {},
   "outputs": [],
   "source": []
  },
  {
   "cell_type": "markdown",
   "metadata": {},
   "source": [
    "## Another example of aliasing due to subsampling"
   ]
  },
  {
   "cell_type": "code",
   "execution_count": null,
   "metadata": {},
   "outputs": [],
   "source": []
  },
  {
   "cell_type": "markdown",
   "metadata": {},
   "source": [
    "**Solution: Filter the image *then* subsample**"
   ]
  },
  {
   "cell_type": "code",
   "execution_count": null,
   "metadata": {},
   "outputs": [],
   "source": []
  },
  {
   "cell_type": "markdown",
   "metadata": {},
   "source": [
    "## Gaussian pre-filtering"
   ]
  },
  {
   "cell_type": "code",
   "execution_count": null,
   "metadata": {},
   "outputs": [],
   "source": []
  },
  {
   "cell_type": "markdown",
   "metadata": {},
   "source": [
    "## Gaussian Pyramid\n",
    "* In computer graphics, a *mip map* [Williams, 1983]"
   ]
  },
  {
   "cell_type": "code",
   "execution_count": null,
   "metadata": {},
   "outputs": [],
   "source": []
  },
  {
   "cell_type": "markdown",
   "metadata": {},
   "source": [
    "### Gaussian Pyramid - Searching over scales"
   ]
  },
  {
   "cell_type": "code",
   "execution_count": null,
   "metadata": {},
   "outputs": [],
   "source": []
  },
  {
   "cell_type": "markdown",
   "metadata": {},
   "source": [
    "### Gaussian pyramid and stack"
   ]
  },
  {
   "cell_type": "code",
   "execution_count": null,
   "metadata": {},
   "outputs": [],
   "source": []
  },
  {
   "cell_type": "markdown",
   "metadata": {},
   "source": [
    "### Memory Usage"
   ]
  },
  {
   "cell_type": "code",
   "execution_count": null,
   "metadata": {},
   "outputs": [],
   "source": []
  },
  {
   "cell_type": "markdown",
   "metadata": {},
   "source": [
    "## Laplacian Pyramid"
   ]
  },
  {
   "cell_type": "code",
   "execution_count": null,
   "metadata": {},
   "outputs": [],
   "source": []
  },
  {
   "cell_type": "markdown",
   "metadata": {},
   "source": [
    "### Reconstructing the image from a Laplacian pyramid"
   ]
  },
  {
   "cell_type": "code",
   "execution_count": null,
   "metadata": {},
   "outputs": [],
   "source": []
  }
 ],
 "metadata": {
  "kernelspec": {
   "display_name": "Python 3",
   "language": "python",
   "name": "python3"
  },
  "language_info": {
   "codemirror_mode": {
    "name": "ipython",
    "version": 3
   },
   "file_extension": ".py",
   "mimetype": "text/x-python",
   "name": "python",
   "nbconvert_exporter": "python",
   "pygments_lexer": "ipython3",
   "version": "3.8.3"
  }
 },
 "nbformat": 4,
 "nbformat_minor": 4
}
