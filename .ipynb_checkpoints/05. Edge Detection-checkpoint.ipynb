{
 "cells": [
  {
   "cell_type": "code",
   "execution_count": 2,
   "metadata": {},
   "outputs": [],
   "source": [
    "import cv2\n",
    "import numpy as np\n",
    "from matplotlib import pyplot as plt"
   ]
  },
  {
   "cell_type": "markdown",
   "metadata": {},
   "source": [
    "# Grouping\n",
    "* Grouping pixels into objects\n",
    "    * \"Perceptual organization\""
   ]
  },
  {
   "cell_type": "code",
   "execution_count": null,
   "metadata": {},
   "outputs": [],
   "source": []
  },
  {
   "cell_type": "markdown",
   "metadata": {},
   "source": [
    "## Why grouping?\n",
    "* Pixel value is a property of sensor, not world\n",
    "* Reasoning at object level might make things easy:\n",
    "    * objects at consistent depth\n",
    "    * objects can be recognized\n",
    "    * objects move as one"
   ]
  },
  {
   "cell_type": "code",
   "execution_count": null,
   "metadata": {},
   "outputs": [],
   "source": []
  },
  {
   "cell_type": "markdown",
   "metadata": {},
   "source": [
    "## Regions ↔ Boundaries"
   ]
  },
  {
   "cell_type": "code",
   "execution_count": null,
   "metadata": {},
   "outputs": [],
   "source": []
  },
  {
   "cell_type": "markdown",
   "metadata": {},
   "source": [
    "# Edge Detection\n",
    "## Why edges?\n",
    "* Resilience to lighting and color\n",
    "    * useful for recognition, matching patches across images\n",
    "* Humans are sensitive to edges\n",
    "* Convert a 2D image into a set of curves\n",
    "    * Extracts salient features of the scene\n",
    "    * More compact\n",
    "* Cue to shape and geometry\n",
    "    * useful for recognition, understanding 3D structure"
   ]
  },
  {
   "cell_type": "code",
   "execution_count": null,
   "metadata": {},
   "outputs": [],
   "source": []
  },
  {
   "cell_type": "markdown",
   "metadata": {},
   "source": [
    "## Edges\n",
    "* Edges are curves in the image, across which the brightness changes \"a lot\"\n",
    "* Corners / Junctions\n",
    "* Different kinds of edges:\n",
    "    * Depth discontinuities\n",
    "    * Normal discontinuities\n",
    "    * Discontinuities in \"paint\"\n",
    "    * Shadows"
   ]
  },
  {
   "cell_type": "code",
   "execution_count": null,
   "metadata": {},
   "outputs": [],
   "source": []
  },
  {
   "cell_type": "markdown",
   "metadata": {},
   "source": [
    "## Characterizing edges\n",
    "* Ad edge is a place of *rapid change* in the image intensity function"
   ]
  },
  {
   "cell_type": "code",
   "execution_count": null,
   "metadata": {},
   "outputs": [],
   "source": []
  },
  {
   "cell_type": "markdown",
   "metadata": {},
   "source": [
    "## Derivatives and Convolution\n",
    "* Differentiation is *linear* $\\frac{\\partial (af(x) + bg(x)}{\\partial x}$\n",
    "* Differentiation is *shift-equivariant*\n",
    "    * Derivative of shifted signal is shifted derivative\n",
    "* Hence, differentiation can be represented as convolution"
   ]
  },
  {
   "cell_type": "code",
   "execution_count": null,
   "metadata": {},
   "outputs": [],
   "source": []
  },
  {
   "cell_type": "markdown",
   "metadata": {},
   "source": [
    "## Image derivatives\n",
    "* How can we differentiate a *discrete* image $F[x,y]$?\n",
    "    * Option 1: reconstruct a continuous image $f$, then compute the derivative\n",
    "    * Option 2: take discrete derivative (finite difference)\n",
    "    * $\\frac{\\partial f}{\\partial x}[x,y] \\approx F[x+1,y] - F[x,y]$\n",
    "* Implement this as a linear filter\n",
    "    * $\\frac{\\partial f}{\\partial x}: H_x$\n",
    "    * $\\frac{\\partial f}{\\partial y}: H_y$"
   ]
  },
  {
   "cell_type": "code",
   "execution_count": 8,
   "metadata": {},
   "outputs": [
    {
     "name": "stdout",
     "output_type": "stream",
     "text": [
      "[[ 0  0  0]\n",
      " [ 1 -1  0]\n",
      " [ 0  0  0]]\n"
     ]
    }
   ],
   "source": [
    "# Hx\n",
    "hx = np.array([[0,0,0],[1,-1,0],[0,0,0]])\n",
    "print(hx)"
   ]
  },
  {
   "cell_type": "code",
   "execution_count": 9,
   "metadata": {},
   "outputs": [
    {
     "name": "stdout",
     "output_type": "stream",
     "text": [
      "[[ 0  1  0]\n",
      " [ 0 -1  0]\n",
      " [ 0  0  0]]\n"
     ]
    }
   ],
   "source": [
    "# Hy\n",
    "hy = np.array([[0,1,0],[0,-1,0],[0,0,0]])\n",
    "print(hy)"
   ]
  },
  {
   "cell_type": "markdown",
   "metadata": {},
   "source": [
    "## Image gradient\n",
    "* The *gradient* of an image: $\\Delta f = [\\frac{\\partial f}{\\partial x},\\frac{\\partial f}{\\partial y}]$\n",
    "    * The gradient points in the direction of most rapid increase in intensity\n",
    "        * $\\Delta f = [\\frac{\\partial f}{\\partial x},0]$\n",
    "        * $\\Delta f = [0,\\frac{\\partial f}{\\partial y}]$\n",
    "        * $\\Delta f = [\\frac{\\partial f}{\\partial x},\\frac{\\partial f}{\\partial y}]$\n",
    "* The *edge strength* is given by the gradient magnitude:\n",
    "    * $\\| \\Delta f \\| = \\sqrt{\\big( \\frac{\\partial f}{\\partial x} \\big)^2 + \\big( \\frac{\\partial f}{\\partial y} \\big)^2}$\n",
    "* The gradient is given by:\n",
    "    * $\\theta = \\tan^{-1} \\big( \\frac{\\partial f}{\\partial x} / \\frac{\\partial f}{\\partial y} \\big)$\n",
    "        * How does this relate to the directino of the edge?"
   ]
  },
  {
   "cell_type": "code",
   "execution_count": null,
   "metadata": {},
   "outputs": [],
   "source": []
  },
  {
   "cell_type": "markdown",
   "metadata": {},
   "source": [
    "### Gradient in $x$"
   ]
  },
  {
   "cell_type": "code",
   "execution_count": null,
   "metadata": {},
   "outputs": [],
   "source": []
  },
  {
   "cell_type": "markdown",
   "metadata": {},
   "source": [
    "### Gradient in $y$"
   ]
  },
  {
   "cell_type": "code",
   "execution_count": null,
   "metadata": {},
   "outputs": [],
   "source": []
  },
  {
   "cell_type": "markdown",
   "metadata": {},
   "source": [
    "## Effect of noise\n",
    "* Input\n",
    "* Gradient magnitude"
   ]
  },
  {
   "cell_type": "code",
   "execution_count": null,
   "metadata": {},
   "outputs": [],
   "source": []
  },
  {
   "cell_type": "markdown",
   "metadata": {},
   "source": [
    "### Noisy input image\n",
    "* $f(x)$\n",
    "* $\\frac{d}{dx}f(x)$\n",
    "* Hard to find edge\n"
   ]
  },
  {
   "cell_type": "code",
   "execution_count": null,
   "metadata": {},
   "outputs": [],
   "source": []
  },
  {
   "cell_type": "markdown",
   "metadata": {},
   "source": [
    "* Noise is high frequency\n",
    "* Differentiation accentuates noise\n",
    "    * $\\frac{d \\sin wx}{dx} = w cos wx$"
   ]
  },
  {
   "cell_type": "code",
   "execution_count": null,
   "metadata": {},
   "outputs": [],
   "source": []
  },
  {
   "cell_type": "markdown",
   "metadata": {},
   "source": [
    "### Solution : Smooth first\n",
    "* To find edges, look for peaks in $\\frac{d}{dx}(f*h)$"
   ]
  },
  {
   "cell_type": "code",
   "execution_count": null,
   "metadata": {},
   "outputs": [],
   "source": []
  },
  {
   "cell_type": "markdown",
   "metadata": {},
   "source": [
    "## Associative property of convolution\n",
    "* Differentiation is a convolution\n",
    "* Convolution is associative:\n",
    "    * $\\frac{d}{dx}(f*h) = f * \\frac{d}{dx}h$"
   ]
  },
  {
   "cell_type": "code",
   "execution_count": null,
   "metadata": {},
   "outputs": [],
   "source": []
  },
  {
   "cell_type": "markdown",
   "metadata": {},
   "source": [
    "## 2D edge detection filters\n",
    "* Gaussian filter\n",
    "    * $h_\\sigma (u,v) = \\frac{1}{2\\pi \\sigma ^2}e^{-\\frac{u^2+v^2}{2\\sigma^2}}$\n",
    "* Derivative of the Gaussian filter\n",
    "    * $\\frac{\\partial}{\\partial x}h_\\sigma (u,v)$"
   ]
  },
  {
   "cell_type": "code",
   "execution_count": null,
   "metadata": {},
   "outputs": [],
   "source": []
  },
  {
   "cell_type": "markdown",
   "metadata": {},
   "source": [
    "### Derivative of the Gaussian filter\n",
    "* $x$-direction\n",
    "* $y$-direction"
   ]
  },
  {
   "cell_type": "code",
   "execution_count": null,
   "metadata": {},
   "outputs": [],
   "source": []
  },
  {
   "cell_type": "markdown",
   "metadata": {},
   "source": [
    "### Anisotropic Gaussian\n",
    "* Should smoothing along the edge be the same as smoothing across it?\n",
    "* Smooth more along the edge than across it\n",
    "* Use a lower standard deviation along one direction\n",
    "* $G(x,y) = e^{-\\frac{x^2}{2\\sigma^2_x}-\\frac{y^2}{2\\sigma^2_y}}$\n",
    "* Can be applied to derivative"
   ]
  },
  {
   "cell_type": "code",
   "execution_count": null,
   "metadata": {},
   "outputs": [],
   "source": []
  },
  {
   "cell_type": "markdown",
   "metadata": {},
   "source": [
    "### The Sobel filter\n",
    "* A variant of the Anisotropic Gaussian\n",
    "* Smooth *only* along the edge\n",
    "* $x$ derivative filter"
   ]
  },
  {
   "cell_type": "code",
   "execution_count": null,
   "metadata": {},
   "outputs": [],
   "source": []
  },
  {
   "cell_type": "markdown",
   "metadata": {},
   "source": [
    "## Oriented Gaussian Derivatives\n",
    "* Instead of just derivative along $x$ and $y$, we can also rotate filter to get derivatives along different direction"
   ]
  },
  {
   "cell_type": "code",
   "execution_count": null,
   "metadata": {},
   "outputs": [],
   "source": []
  },
  {
   "cell_type": "markdown",
   "metadata": {},
   "source": [
    "### Which way does the gradient point?"
   ]
  },
  {
   "cell_type": "code",
   "execution_count": null,
   "metadata": {},
   "outputs": [],
   "source": []
  },
  {
   "cell_type": "markdown",
   "metadata": {},
   "source": [
    "## Gradient Magnitude & Gradient Orientation"
   ]
  },
  {
   "cell_type": "code",
   "execution_count": null,
   "metadata": {},
   "outputs": [],
   "source": []
  },
  {
   "cell_type": "markdown",
   "metadata": {},
   "source": [
    "## From gradients to boundaries?\n",
    "* Can we threshold the gradient magnitude to get object boundaries?\n",
    "* Three different thresholds:\n",
    "    * False positives\n",
    "    * Thick boundaries\n",
    "    * Gaps"
   ]
  },
  {
   "cell_type": "code",
   "execution_count": null,
   "metadata": {},
   "outputs": [],
   "source": []
  },
  {
   "cell_type": "markdown",
   "metadata": {},
   "source": [
    "### Thick boundaries\n",
    "* Want to find *peaks* in the gradient magnitude\n",
    "* As one moves across edge, gradient magnitude rises and then falls\n",
    "* Find the peak\n",
    "    * Image → Intensity function → First derivative"
   ]
  },
  {
   "cell_type": "code",
   "execution_count": null,
   "metadata": {},
   "outputs": [],
   "source": []
  },
  {
   "cell_type": "markdown",
   "metadata": {},
   "source": [
    "## Non-maximum suppression for each orientation\n",
    "* Let $g(q)$ be the image gradient at pixel $q$\n",
    "    * A vector\n",
    "* Take a step forwards and backwards along gradient\n",
    "    * $r = q + \\frac{g(q)}{\\| g(q) \\|}$\n",
    "    * $p = q - \\frac{g(q)}{\\| g(q) \\|}$\n",
    "* Find gradient magnitude at $p$ and $r$\n",
    "    * Interpolate into gradient magnitude\n",
    "* If magnitude at $q$ is greater at $p$ and $r$, **$q$ is a local peak of gradient magnitude**"
   ]
  },
  {
   "cell_type": "code",
   "execution_count": null,
   "metadata": {},
   "outputs": [],
   "source": []
  },
  {
   "cell_type": "markdown",
   "metadata": {},
   "source": [
    "### Non-maximum suppresion (Before & After)"
   ]
  },
  {
   "cell_type": "code",
   "execution_count": null,
   "metadata": {},
   "outputs": [],
   "source": []
  },
  {
   "cell_type": "markdown",
   "metadata": {},
   "source": [
    "### Non-maximum suppresion (With various thresholds)"
   ]
  },
  {
   "cell_type": "code",
   "execution_count": null,
   "metadata": {},
   "outputs": [],
   "source": []
  },
  {
   "cell_type": "markdown",
   "metadata": {},
   "source": [
    "## Hysteresis thresholding\n",
    "* Start with a high threshold\n",
    "* Then grow high threshold edges by looking for neighbors that clear a lower threshold\n",
    "    * White: Clears high threshold\n",
    "    * Gray: Clears low threshold but not high threshold\n",
    "        * Mark pixels that clear high threshold as boundary\n",
    "        * If there are pixels that clear low threshold and are connected to a boundary, mark them as boundary too"
   ]
  },
  {
   "cell_type": "code",
   "execution_count": null,
   "metadata": {},
   "outputs": [],
   "source": []
  },
  {
   "cell_type": "markdown",
   "metadata": {},
   "source": [
    "### High threshold | Low threshold | Hysteresis threshold"
   ]
  },
  {
   "cell_type": "code",
   "execution_count": null,
   "metadata": {},
   "outputs": [],
   "source": []
  },
  {
   "cell_type": "markdown",
   "metadata": {},
   "source": [
    "## Canny edge detector\n",
    "1. Filter image with $x,y$ derivatives of Gaussian\n",
    "2. Find magnitude and orientation of gradient\n",
    "3. Non-maximum suppression:\n",
    "    * This multi-pixel wide \"ridges\" down to single pixel width\n",
    "4. Thresholding and linking (hysteresis):\n",
    "    * Define two thresholds: low and high\n",
    "    * Use the high threshold to start edge curves and the low threshold to continue them"
   ]
  },
  {
   "cell_type": "code",
   "execution_count": null,
   "metadata": {},
   "outputs": [],
   "source": []
  },
  {
   "cell_type": "markdown",
   "metadata": {},
   "source": [
    "### Texture & Low-contrast edges"
   ]
  },
  {
   "cell_type": "code",
   "execution_count": null,
   "metadata": {},
   "outputs": [],
   "source": []
  }
 ],
 "metadata": {
  "kernelspec": {
   "display_name": "Python 3",
   "language": "python",
   "name": "python3"
  },
  "language_info": {
   "codemirror_mode": {
    "name": "ipython",
    "version": 3
   },
   "file_extension": ".py",
   "mimetype": "text/x-python",
   "name": "python",
   "nbconvert_exporter": "python",
   "pygments_lexer": "ipython3",
   "version": "3.8.3"
  }
 },
 "nbformat": 4,
 "nbformat_minor": 4
}
