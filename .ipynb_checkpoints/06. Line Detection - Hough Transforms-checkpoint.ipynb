{
 "cells": [
  {
   "cell_type": "code",
   "execution_count": null,
   "metadata": {},
   "outputs": [],
   "source": [
    "import cv2\n",
    "import numpy as np\n",
    "from matplotlib import pyplot as plt"
   ]
  },
  {
   "cell_type": "markdown",
   "metadata": {},
   "source": [
    "# Line Detection\n",
    "## Why lines?\n",
    "* Boundaries of man-made objects\n",
    "* Clues to 3D geometry"
   ]
  },
  {
   "cell_type": "code",
   "execution_count": null,
   "metadata": {},
   "outputs": [],
   "source": []
  },
  {
   "cell_type": "markdown",
   "metadata": {},
   "source": [
    "## From edges to lines\n",
    "* We know which pixels are edges, but how can we group them into lines?"
   ]
  },
  {
   "cell_type": "code",
   "execution_count": null,
   "metadata": {},
   "outputs": [],
   "source": []
  },
  {
   "cell_type": "markdown",
   "metadata": {},
   "source": [
    "## Basic idea : Voting\n",
    "* We know the edge pixels (edge detection)\n",
    "* Every edge pixel can lie on only some set of lines\n",
    "    * If we know gradient orientation at that pixel, we can further prune this set\n",
    "* Every edge pixel votes for all lines that\n",
    "    * Pass through it\n",
    "    * Are consistent with gradient orientation\n",
    "* Return all lines that get a minimum number of votes"
   ]
  },
  {
   "cell_type": "code",
   "execution_count": null,
   "metadata": {},
   "outputs": [],
   "source": []
  },
  {
   "cell_type": "markdown",
   "metadata": {},
   "source": [
    "## Basic algorithm : Hough Voting\n",
    "* Initialize set of all possible lines and set all their votes to 0\n",
    "* For every edge pixel, add vote to lines that:\n",
    "    * Pass through the pixel\n",
    "    * Have oritentation that matches gradient orientation\n",
    "* Return all lines with votes more than a threshold"
   ]
  },
  {
   "cell_type": "code",
   "execution_count": null,
   "metadata": {},
   "outputs": [],
   "source": []
  },
  {
   "cell_type": "markdown",
   "metadata": {},
   "source": [
    "## What are lines?\n",
    "* Line in 2D is typically represented by an equation\n",
    "    * ex) $2x + 3y + 4 = 0$\n",
    "    * Consists of all points $(x,y)$ that satisfy equation\n",
    "* Goal: given image, find out sets of lines\n",
    "* Problem: Line representation is not unique\n",
    "    * These  two represent the same line:\n",
    "        * $3x + 5y = 8$\n",
    "        * $6x + 10y = 16$\n",
    "    * Can we define a unique way to represent a line?\n",
    "\n",
    "### Representing lines : Solution 1\n",
    "\n",
    "* Represent lines with equation as before:\n",
    "    * $ax + by + c = 0$\n",
    "* But scale coefficients $a,b,c$ so that:\n",
    "    * $a^2 + b^2 = 1$\n",
    "* Fact: if $a^2 + b^2 = 1$, then there is some $\\theta$ such that:\n",
    "    * $a = \\cos \\theta, b = \\sin \\theta$\n",
    "* So represent lines as tuples $(\\theta,c)$ where equation is given by:\n",
    "    * $x \\cos \\theta + y \\sin \\theta + c = 0$\n",
    "    \n",
    "### Representing lines : Solution 2\n",
    "* Any line in 2D can be represented by a combination of\n",
    "    * Distance $d$ from origin\n",
    "    * Angle $\\theta$ between *normal to line* and $x$-axis\n",
    "* Fact: equation of the line is then:\n",
    "    * $x \\cos \\theta + y \\sin \\theta - d = 0$"
   ]
  },
  {
   "cell_type": "code",
   "execution_count": null,
   "metadata": {},
   "outputs": [],
   "source": []
  },
  {
   "cell_type": "markdown",
   "metadata": {},
   "source": [
    "## Checking if a pixel lies on a line\n",
    "* Equation of line is :\n",
    "    * $x \\cos \\theta + y \\sin \\theta + c = 0$\n",
    "* To allow for errors due to discretization let's say pixel $(x,y)$ satisfies line if :\n",
    "    * $|x \\cos \\theta + y \\sin \\theta + c| < t_1|$\n",
    "    * Fact: $|x \\cos \\theta + y \\sin \\theta + c|$ is the distance of $(x,y)$ from line"
   ]
  },
  {
   "cell_type": "code",
   "execution_count": null,
   "metadata": {},
   "outputs": [],
   "source": []
  },
  {
   "cell_type": "markdown",
   "metadata": {},
   "source": [
    "### For any $(\\theta,c)$ on the left, we can check which pixel satisfy the line"
   ]
  },
  {
   "cell_type": "code",
   "execution_count": null,
   "metadata": {},
   "outputs": [],
   "source": []
  },
  {
   "cell_type": "markdown",
   "metadata": {},
   "source": [
    "### Checking if gradient orientation matched line orientation\n",
    "* Simply check if $| \\text{line orientation} - \\text{gradient orientation} | < t_3$"
   ]
  },
  {
   "cell_type": "code",
   "execution_count": null,
   "metadata": {},
   "outputs": [],
   "source": []
  }
 ],
 "metadata": {
  "kernelspec": {
   "display_name": "Python 3",
   "language": "python",
   "name": "python3"
  },
  "language_info": {
   "codemirror_mode": {
    "name": "ipython",
    "version": 3
   },
   "file_extension": ".py",
   "mimetype": "text/x-python",
   "name": "python",
   "nbconvert_exporter": "python",
   "pygments_lexer": "ipython3",
   "version": "3.8.3"
  }
 },
 "nbformat": 4,
 "nbformat_minor": 4
}
