{
 "cells": [
  {
   "cell_type": "code",
   "execution_count": null,
   "metadata": {},
   "outputs": [],
   "source": [
    "import cv2\n",
    "import numpy as np\n",
    "from matplotlib import pyplot as plt"
   ]
  },
  {
   "cell_type": "markdown",
   "metadata": {},
   "source": [
    "# Geometric Transformations of Images\n",
    "## Examples of geometric transformations\n",
    "* Original\n",
    "* Scaling\n",
    "* Rotation\n"
   ]
  },
  {
   "cell_type": "code",
   "execution_count": null,
   "metadata": {},
   "outputs": [],
   "source": []
  },
  {
   "cell_type": "markdown",
   "metadata": {},
   "source": [
    "## Representing the geometric transformations\n",
    "* Given $(x,y)$ in input, where is the corresponding pixel in output?\n",
    "* Translation:\n",
    "    * $x' = x + t_x$\n",
    "    * $y' = y + t_y$\n",
    "* Scaling:\n",
    "    * $x' = cx$\n",
    "    * $y' = dy$\n",
    "* More general transformations: affine\n",
    "    * $x' = x + t_x$\n",
    "    * $y' = y + t_y$\n",
    "    * also covers rotations\n",
    "\n",
    "\n",
    "\n",
    "* Affine transformations can be represented with matrices\n",
    "    * $x' = ax + by + t_x$\n",
    "    * $y' = cx + dy + t_y$\n",
    "    * $\\begin{bmatrix} x' \\\\ y' \\end{bmatrix} = \n",
    "    \\begin{bmatrix} a & b \\\\ c & d \\end{bmatrix}\\begin{bmatrix} x \\\\ y \\end{bmatrix}\n",
    "    + \\begin{bmatrix} t_x \\\\ t_y \\end{bmatrix}$\n",
    "        * $\\vec p' = M \\vec p' + t$\n",
    "\n",
    "* For the moment, consider this very general form:\n",
    "    * $\\begin{bmatrix} x' \\\\ y' \\end{bmatrix} = T \\bigg( \\begin{bmatrix} x \\\\ y \\end{bmatrix} \\bigg)$\n",
    "        * $\\vec p' = T(\\vec p')$\n",
    "    \n",
    "    \n",
    "   "
   ]
  },
  {
   "cell_type": "code",
   "execution_count": null,
   "metadata": {},
   "outputs": [],
   "source": []
  },
  {
   "cell_type": "markdown",
   "metadata": {},
   "source": [
    "## Geometric manipulations in principle\n",
    "* Where does pixel $(x,y)$ in the original image go to in the output image?\n",
    "* If $(x,y)$ goes to $(x',y')$, then:\n",
    "    * $f'(x',y') = (x,y)$\n",
    "    * Where $f$ is the input and $f'$ is the output\n",
    "* e.g. $x' = 0.6x + 0.8y$ and $y' = 0.8x - 0.6y$\n",
    "* **However**, image pixels have *integer* coordinates\n",
    "    * So $x,y,x',y'$ must be integers"
   ]
  },
  {
   "cell_type": "code",
   "execution_count": null,
   "metadata": {},
   "outputs": [],
   "source": []
  },
  {
   "cell_type": "markdown",
   "metadata": {},
   "source": [
    "## Forward and inverse transformations\n",
    "* Forward transformation:\n",
    "    * Given $(x,y)$ in original image, where does it go to in the output?\n",
    "    * $\\begin{bmatrix} x' \\\\ y' \\end{bmatrix} = T \\bigg( \\begin{bmatrix} x \\\\ y \\end{bmatrix} \\bigg)$\n",
    "* Inverse transformation\n",
    "    * Given $(x',y')$ in the output image, where does it come from in the input?\n",
    "    * $\\begin{bmatrix} x \\\\ y \\end{bmatrix} = T^{-1} \\bigg( \\begin{bmatrix} x' \\\\ y' \\end{bmatrix} \\bigg)$\n",
    "    * But what if $x$ and $y$ are not integers?\n",
    "        * $\\rightarrow$ *Interpolation*"
   ]
  },
  {
   "cell_type": "code",
   "execution_count": null,
   "metadata": {},
   "outputs": [],
   "source": []
  },
  {
   "cell_type": "markdown",
   "metadata": {},
   "source": [
    "## Interpolation\n",
    "* Our view of images: a 2D array of values\n",
    "\n",
    "\n",
    "* Another view: Image pixels are discrete *samples from an underlying *continuous function of $x$ and $y$*\n",
    "\n",
    "\n",
    "* How do we reconstruct underlying *continuous function* from *discrete samples?*\n",
    "* Need to make some assumption\n",
    "* Typically: underlying continuous function is *smooth* in some way\n",
    "* So $f(x+\\Delta_x, y+\\Delta_y)$ and $f(x,y)$ are similar"
   ]
  },
  {
   "cell_type": "code",
   "execution_count": null,
   "metadata": {},
   "outputs": [],
   "source": []
  },
  {
   "cell_type": "markdown",
   "metadata": {},
   "source": [
    "### Nearest Neighbor Interpolation\n",
    "* Value is same as that of nearest sample"
   ]
  },
  {
   "cell_type": "code",
   "execution_count": null,
   "metadata": {},
   "outputs": [],
   "source": []
  },
  {
   "cell_type": "markdown",
   "metadata": {},
   "source": [
    "### Bilinear Interpolation\n",
    "* Find the four nearest neighbors\n",
    "    * $(x_l,y_l), (x_l,y_h), (x_h,y_h), (x_h,y_l)$\n",
    "* Compute the weighted average of the four\n",
    "    * $g(x,y) = C(x_l,y_l), D(x_l,y_h), A(x_h,y_h), B(x_h,y_l)$"
   ]
  },
  {
   "cell_type": "code",
   "execution_count": null,
   "metadata": {},
   "outputs": [],
   "source": []
  },
  {
   "cell_type": "markdown",
   "metadata": {},
   "source": [
    "### Other forms of interpolation\n",
    "* Gaussian interpolation\n",
    "    * Set new pixels to be weighted combination of known pixels, with **weight = -exp(squared distance)**\n",
    "    * $g(x,y) = C \\sum_{x'} \\sum_{y'} e^{-\\frac{(x-x')^2+(y-y')^2}{2\\sigma^2}} f(x',y')$\n",
    "* Other weights\n",
    "    * $g(x,y) = C \\sum_{x'} \\sum_{y'} w(x,x',y,y') f(x',y')$"
   ]
  },
  {
   "cell_type": "code",
   "execution_count": null,
   "metadata": {},
   "outputs": [],
   "source": []
  },
  {
   "cell_type": "markdown",
   "metadata": {},
   "source": [
    "## Unsampling\n",
    "* Unsampling by a factor of 2\n",
    "    * Where does output pixel $(x',y')$ come from in the input?"
   ]
  },
  {
   "cell_type": "code",
   "execution_count": null,
   "metadata": {},
   "outputs": [],
   "source": []
  },
  {
   "cell_type": "markdown",
   "metadata": {},
   "source": [
    "## The limits of interpolation"
   ]
  },
  {
   "cell_type": "code",
   "execution_count": null,
   "metadata": {},
   "outputs": [],
   "source": []
  },
  {
   "cell_type": "markdown",
   "metadata": {},
   "source": [
    "## Some geometric transformations should be easy\n",
    "* Considering *downsampling* by a factor of 2\n",
    "* Should require no interpolation: simply drop every other pixel?\n"
   ]
  },
  {
   "cell_type": "code",
   "execution_count": null,
   "metadata": {},
   "outputs": [],
   "source": []
  },
  {
   "cell_type": "markdown",
   "metadata": {},
   "source": [
    "## The Fourier Transform\n",
    "* Every 1D function $f(x)$ can be decomposed into a set of sines and cosines\n",
    "    * $f(x) = a_1 \\sin 1x + a_2 \\sin 2x + ... + b_0 \\cos 0x + b_1 \\cos 1x + b_2 \\cos 2x + ...$\n",
    "* Things are simpler if we consider complex waves\n",
    "    * instead of $\\cos x$ or $\\sin x$, use: $e^{ix} = \\cos x + i \\sin x$\n",
    "    * $e^{iwx}$ has frequency $\\frac{w}{2\\pi}$\n",
    "    * Then every function $f(X)$ can be written as a sum of such functions:\n",
    "        * $f(x) = a_0e^{i0x} + a_1e^{i1x} + a_2e^{i2x} + ...$\n",
    "    * The Fourier coefficients of $f(x)$ are (*in increasing order of frequency*):\n",
    "        * $a_0, a_1, a_2, a_3, a_4, ...$"
   ]
  },
  {
   "cell_type": "code",
   "execution_count": null,
   "metadata": {},
   "outputs": [],
   "source": []
  },
  {
   "cell_type": "markdown",
   "metadata": {},
   "source": [
    "### The Fourier Transform in 2D\n",
    "* Images are 2D functions of $x$ and $y$\n",
    "* A similar fact holds:\n",
    "    * $f(x,y) = \\sum_k \\sum_l a_{kl} e^{i(kx+ly}$ for some coefficients\n",
    "    * If $a_{kl}$ is non-zero for high $k$and $l$, we say the image has high frequency components"
   ]
  },
  {
   "cell_type": "code",
   "execution_count": null,
   "metadata": {},
   "outputs": [],
   "source": []
  }
 ],
 "metadata": {
  "kernelspec": {
   "display_name": "Python 3",
   "language": "python",
   "name": "python3"
  },
  "language_info": {
   "codemirror_mode": {
    "name": "ipython",
    "version": 3
   },
   "file_extension": ".py",
   "mimetype": "text/x-python",
   "name": "python",
   "nbconvert_exporter": "python",
   "pygments_lexer": "ipython3",
   "version": "3.8.3"
  }
 },
 "nbformat": 4,
 "nbformat_minor": 4
}
